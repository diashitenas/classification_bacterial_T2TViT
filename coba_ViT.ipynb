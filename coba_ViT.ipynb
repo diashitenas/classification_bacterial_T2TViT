{
 "cells": [
  {
   "cell_type": "code",
   "execution_count": 84,
   "metadata": {},
   "outputs": [
    {
     "name": "stdout",
     "output_type": "stream",
     "text": [
      "Requirement already satisfied: kagglehub in c:\\users\\pc\\.conda\\envs\\vit_diash\\lib\\site-packages (0.3.10)\n",
      "Requirement already satisfied: packaging in c:\\users\\pc\\.conda\\envs\\vit_diash\\lib\\site-packages (from kagglehub) (24.2)\n",
      "Requirement already satisfied: pyyaml in c:\\users\\pc\\.conda\\envs\\vit_diash\\lib\\site-packages (from kagglehub) (6.0.2)\n",
      "Requirement already satisfied: requests in c:\\users\\pc\\.conda\\envs\\vit_diash\\lib\\site-packages (from kagglehub) (2.32.3)\n",
      "Requirement already satisfied: tqdm in c:\\users\\pc\\.conda\\envs\\vit_diash\\lib\\site-packages (from kagglehub) (4.67.1)\n",
      "Requirement already satisfied: charset-normalizer<4,>=2 in c:\\users\\pc\\.conda\\envs\\vit_diash\\lib\\site-packages (from requests->kagglehub) (3.4.1)\n",
      "Requirement already satisfied: idna<4,>=2.5 in c:\\users\\pc\\.conda\\envs\\vit_diash\\lib\\site-packages (from requests->kagglehub) (3.10)\n",
      "Requirement already satisfied: urllib3<3,>=1.21.1 in c:\\users\\pc\\.conda\\envs\\vit_diash\\lib\\site-packages (from requests->kagglehub) (2.3.0)\n",
      "Requirement already satisfied: certifi>=2017.4.17 in c:\\users\\pc\\.conda\\envs\\vit_diash\\lib\\site-packages (from requests->kagglehub) (2025.1.31)\n",
      "Requirement already satisfied: colorama in c:\\users\\pc\\.conda\\envs\\vit_diash\\lib\\site-packages (from tqdm->kagglehub) (0.4.6)\n"
     ]
    }
   ],
   "source": [
    "!pip install kagglehub"
   ]
  },
  {
   "cell_type": "code",
   "execution_count": 27,
   "metadata": {},
   "outputs": [
    {
     "name": "stdout",
     "output_type": "stream",
     "text": [
      "^C\n"
     ]
    }
   ],
   "source": [
    "!pip uninstall torch torchvision torchaudio"
   ]
  },
  {
   "cell_type": "code",
   "execution_count": 1,
   "metadata": {},
   "outputs": [
    {
     "name": "stdout",
     "output_type": "stream",
     "text": [
      "Looking in indexes: https://download.pytorch.org/whl/cu124\n",
      "Requirement already satisfied: torch in c:\\users\\pc\\.conda\\envs\\vit_diash\\lib\\site-packages (2.5.1+cu121)\n",
      "Requirement already satisfied: torchvision in c:\\users\\pc\\.conda\\envs\\vit_diash\\lib\\site-packages (0.20.1+cu121)\n",
      "Requirement already satisfied: torchaudio in c:\\users\\pc\\.conda\\envs\\vit_diash\\lib\\site-packages (2.5.1+cu121)\n",
      "Requirement already satisfied: filelock in c:\\users\\pc\\.conda\\envs\\vit_diash\\lib\\site-packages (from torch) (3.17.0)\n",
      "Requirement already satisfied: typing-extensions>=4.8.0 in c:\\users\\pc\\appdata\\roaming\\python\\python311\\site-packages (from torch) (4.12.2)\n",
      "Requirement already satisfied: networkx in c:\\users\\pc\\.conda\\envs\\vit_diash\\lib\\site-packages (from torch) (3.4.2)\n",
      "Requirement already satisfied: jinja2 in c:\\users\\pc\\.conda\\envs\\vit_diash\\lib\\site-packages (from torch) (3.1.6)\n",
      "Requirement already satisfied: fsspec in c:\\users\\pc\\appdata\\roaming\\python\\python311\\site-packages (from torch) (2024.6.1)\n",
      "Requirement already satisfied: sympy==1.13.1 in c:\\users\\pc\\.conda\\envs\\vit_diash\\lib\\site-packages (from torch) (1.13.1)\n",
      "Requirement already satisfied: mpmath<1.4,>=1.1.0 in c:\\users\\pc\\.conda\\envs\\vit_diash\\lib\\site-packages (from sympy==1.13.1->torch) (1.3.0)\n",
      "Requirement already satisfied: numpy in c:\\users\\pc\\.conda\\envs\\vit_diash\\lib\\site-packages (from torchvision) (1.26.4)\n",
      "Requirement already satisfied: pillow!=8.3.*,>=5.3.0 in c:\\users\\pc\\.conda\\envs\\vit_diash\\lib\\site-packages (from torchvision) (11.1.0)\n",
      "Requirement already satisfied: MarkupSafe>=2.0 in c:\\users\\pc\\.conda\\envs\\vit_diash\\lib\\site-packages (from jinja2->torch) (3.0.2)\n",
      "Note: you may need to restart the kernel to use updated packages.\n"
     ]
    }
   ],
   "source": [
    "pip install torch torchvision torchaudio --index-url https://download.pytorch.org/whl/cu124"
   ]
  },
  {
   "cell_type": "code",
   "execution_count": 86,
   "metadata": {},
   "outputs": [
    {
     "name": "stdout",
     "output_type": "stream",
     "text": [
      "Path to dataset files: C:\\Users\\PC\\.cache\\kagglehub\\datasets\\smaranjitghose\\corn-or-maize-leaf-disease-dataset\\versions\\1\n"
     ]
    }
   ],
   "source": [
    "import kagglehub\n",
    "\n",
    "# Download latest version\n",
    "path = kagglehub.dataset_download(\"smaranjitghose/corn-or-maize-leaf-disease-dataset\")\n",
    "\n",
    "print(\"Path to dataset files:\", path)"
   ]
  },
  {
   "cell_type": "code",
   "execution_count": null,
   "metadata": {},
   "outputs": [
    {
     "name": "stdout",
     "output_type": "stream",
     "text": [
      "Collecting vit-pytorch\n",
      "  Downloading vit_pytorch-1.10.1-py3-none-any.whl.metadata (69 kB)\n",
      "Collecting einops>=0.7.0 (from vit-pytorch)\n",
      "  Downloading einops-0.8.1-py3-none-any.whl.metadata (13 kB)\n",
      "Requirement already satisfied: torch>=1.10 in c:\\users\\pc\\appdata\\roaming\\python\\python311\\site-packages (from vit-pytorch) (2.4.0)\n",
      "Requirement already satisfied: torchvision in c:\\users\\pc\\appdata\\roaming\\python\\python311\\site-packages (from vit-pytorch) (0.19.0)\n",
      "Collecting filelock (from torch>=1.10->vit-pytorch)\n",
      "  Using cached filelock-3.17.0-py3-none-any.whl.metadata (2.9 kB)\n",
      "Requirement already satisfied: typing-extensions>=4.8.0 in c:\\users\\pc\\appdata\\roaming\\python\\python311\\site-packages (from torch>=1.10->vit-pytorch) (4.12.2)\n",
      "Collecting sympy (from torch>=1.10->vit-pytorch)\n",
      "  Using cached sympy-1.13.3-py3-none-any.whl.metadata (12 kB)\n",
      "Collecting networkx (from torch>=1.10->vit-pytorch)\n",
      "  Using cached networkx-3.4.2-py3-none-any.whl.metadata (6.3 kB)\n",
      "Collecting jinja2 (from torch>=1.10->vit-pytorch)\n",
      "  Downloading jinja2-3.1.6-py3-none-any.whl.metadata (2.9 kB)\n",
      "Requirement already satisfied: fsspec in c:\\users\\pc\\appdata\\roaming\\python\\python311\\site-packages (from torch>=1.10->vit-pytorch) (2024.6.1)\n",
      "Collecting numpy<2 (from torchvision->vit-pytorch)\n",
      "  Using cached numpy-1.26.4-cp311-cp311-win_amd64.whl.metadata (61 kB)\n",
      "Collecting pillow!=8.3.*,>=5.3.0 (from torchvision->vit-pytorch)\n",
      "  Using cached pillow-11.1.0-cp311-cp311-win_amd64.whl.metadata (9.3 kB)\n",
      "Collecting MarkupSafe>=2.0 (from jinja2->torch>=1.10->vit-pytorch)\n",
      "  Using cached MarkupSafe-3.0.2-cp311-cp311-win_amd64.whl.metadata (4.1 kB)\n",
      "Collecting mpmath<1.4,>=1.1.0 (from sympy->torch>=1.10->vit-pytorch)\n",
      "  Using cached mpmath-1.3.0-py3-none-any.whl.metadata (8.6 kB)\n",
      "Downloading vit_pytorch-1.10.1-py3-none-any.whl (140 kB)\n",
      "Downloading einops-0.8.1-py3-none-any.whl (64 kB)\n",
      "Using cached numpy-1.26.4-cp311-cp311-win_amd64.whl (15.8 MB)\n",
      "Using cached pillow-11.1.0-cp311-cp311-win_amd64.whl (2.6 MB)\n",
      "Using cached filelock-3.17.0-py3-none-any.whl (16 kB)\n",
      "Downloading jinja2-3.1.6-py3-none-any.whl (134 kB)\n",
      "Using cached networkx-3.4.2-py3-none-any.whl (1.7 MB)\n",
      "Using cached sympy-1.13.3-py3-none-any.whl (6.2 MB)\n",
      "Using cached MarkupSafe-3.0.2-cp311-cp311-win_amd64.whl (15 kB)\n",
      "Using cached mpmath-1.3.0-py3-none-any.whl (536 kB)\n",
      "Installing collected packages: mpmath, sympy, pillow, numpy, networkx, MarkupSafe, filelock, einops, jinja2, vit-pytorch\n",
      "Successfully installed MarkupSafe-3.0.2 einops-0.8.1 filelock-3.17.0 jinja2-3.1.6 mpmath-1.3.0 networkx-3.4.2 numpy-1.26.4 pillow-11.1.0 sympy-1.13.3 vit-pytorch-1.10.1\n"
     ]
    },
    {
     "name": "stderr",
     "output_type": "stream",
     "text": [
      "ERROR: pip's dependency resolver does not currently take into account all the packages that are installed. This behaviour is the source of the following dependency conflicts.\n",
      "lpips 0.1.4 requires scipy>=1.0.1, which is not installed.\n",
      "visdom 0.2.4 requires jsonpatch, which is not installed.\n",
      "visdom 0.2.4 requires scipy, which is not installed.\n",
      "visdom 0.2.4 requires websocket-client, which is not installed.\n"
     ]
    }
   ],
   "source": [
    "!pip install vit-pytorch"
   ]
  },
  {
   "cell_type": "code",
   "execution_count": 1,
   "metadata": {},
   "outputs": [
    {
     "name": "stdout",
     "output_type": "stream",
     "text": [
      "Train size: 1284 samples, 30 classes\n",
      "Validation size: 275 samples\n",
      "Test size: 276 samples\n",
      "\n",
      "Class names: ['Alpinia Galanga (Rasna)', 'Amaranthus Viridis (Arive-Dantu)', 'Artocarpus Heterophyllus (Jackfruit)', 'Azadirachta Indica (Neem)', 'Basella Alba (Basale)', 'Brassica Juncea (Indian Mustard)', 'Carissa Carandas (Karanda)', 'Citrus Limon (Lemon)', 'Ficus Auriculata (Roxburgh fig)', 'Ficus Religiosa (Peepal Tree)', 'Hibiscus Rosa-sinensis', 'Jasminum (Jasmine)', 'Mangifera Indica (Mango)', 'Mentha (Mint)', 'Moringa Oleifera (Drumstick)', 'Muntingia Calabura (Jamaica Cherry-Gasagase)', 'Murraya Koenigii (Curry)', 'Nerium Oleander (Oleander)', 'Nyctanthes Arbor-tristis (Parijata)', 'Ocimum Tenuiflorum (Tulsi)', 'Piper Betle (Betel)', 'Plectranthus Amboinicus (Mexican Mint)', 'Pongamia Pinnata (Indian Beech)', 'Psidium Guajava (Guava)', 'Punica Granatum (Pomegranate)', 'Santalum Album (Sandalwood)', 'Syzygium Cumini (Jamun)', 'Syzygium Jambos (Rose Apple)', 'Tabernaemontana Divaricata (Crape Jasmine)', 'Trigonella Foenum-graecum (Fenugreek)']\n"
     ]
    }
   ],
   "source": [
    "import os\n",
    "from torchvision import datasets, transforms\n",
    "from torch.utils.data import DataLoader\n",
    "\n",
    "# Define the transform\n",
    "transform = transforms.Compose([\n",
    "    transforms.Resize((256, 256)),\n",
    "    transforms.ToTensor()\n",
    "])\n",
    "\n",
    "# Define dataset directories\n",
    "base_dir = r'D:\\PENELITIAN\\PENELITIAN - DIASH - HERBAL\\Medicinal Leaf Dataset Split'\n",
    "train_dir = os.path.join(base_dir, 'train')\n",
    "val_dir = os.path.join(base_dir, 'val')\n",
    "test_dir = os.path.join(base_dir, 'test')\n",
    "\n",
    "# Load datasets from separate folders\n",
    "train_dataset = datasets.ImageFolder(train_dir, transform=transform)\n",
    "val_dataset = datasets.ImageFolder(val_dir, transform=transform)\n",
    "test_dataset = datasets.ImageFolder(test_dir, transform=transform)\n",
    "\n",
    "# Create DataLoaders\n",
    "trainloader = DataLoader(train_dataset, batch_size=4, shuffle=True, num_workers=4)\n",
    "valloader = DataLoader(val_dataset, batch_size=4, shuffle=True, num_workers=4)\n",
    "testloader = DataLoader(test_dataset, batch_size=4, shuffle=True, num_workers=4)\n",
    "\n",
    "# Print dataset sizes\n",
    "print(f\"Train size: {len(train_dataset)} samples, {len(train_dataset.classes)} classes\")\n",
    "print(f\"Validation size: {len(val_dataset)} samples\")\n",
    "print(f\"Test size: {len(test_dataset)} samples\")\n",
    "\n",
    "# Print class names (should be the same for all splits)\n",
    "print(\"\\nClass names:\", train_dataset.classes)"
   ]
  },
  {
   "cell_type": "code",
   "execution_count": 2,
   "metadata": {},
   "outputs": [
    {
     "name": "stdout",
     "output_type": "stream",
     "text": [
      "True\n"
     ]
    }
   ],
   "source": [
    "import torch\n",
    "print(torch.cuda.is_available())  # Harus mengembalikan True jika CUDA tersedia\n"
   ]
  },
  {
   "cell_type": "code",
   "execution_count": 3,
   "metadata": {},
   "outputs": [],
   "source": [
    "# Zufar's code\n",
    "import torch\n",
    "from vit_pytorch import ViT\n",
    "\n",
    "v = ViT(\n",
    "    image_size = 256,\n",
    "    patch_size = 32,\n",
    "    num_classes = 30,\n",
    "    dim = 1024,\n",
    "    depth = 6,\n",
    "    heads = 16,\n",
    "    mlp_dim = 2048,\n",
    ")"
   ]
  },
  {
   "cell_type": "code",
   "execution_count": 4,
   "metadata": {},
   "outputs": [],
   "source": [
    "# import torch.nn as nn\n",
    "# import torch.nn.functional as F\n",
    "# import torch.optim as optim\n",
    "# from tqdm import tqdm\n",
    "# from torch.utils.data import DataLoader\n",
    "# from torchvision import datasets, transforms\n",
    "\n",
    "# criterion = nn.CrossEntropyLoss()\n",
    "# optimizer = optim.SGD(v.parameters(), lr=0.001, momentum=0.9)\n",
    "\n",
    "# transform = transforms.Compose([\n",
    "#     transforms.Resize((256, 256)),\n",
    "#     transforms.ToTensor()\n",
    "# ])\n",
    "\n",
    "# train_dir = 'D:\\\\PENELITIAN\\\\PENELITIAN - DIASH - DAUN JAGUNG\\\\data_baru\\\\train_dataset'\n",
    "# test_dir = 'D:\\\\PENELITIAN\\\\PENELITIAN - DIASH - DAUN JAGUNG\\\\data_baru\\\\test_dataset'\n",
    "# val_dir = 'D:\\\\PENELITIAN\\\\PENELITIAN - DIASH - DAUN JAGUNG\\\\data_baru\\\\val_dataset'\n",
    "# trainset = datasets.ImageFolder(train_dir, transform=transform)\n",
    "# testset = datasets.ImageFolder(train_dir, transform=transform)\n",
    "# valset = datasets.ImageFolder(train_dir, transform=transform)\n",
    "# trainloader = torch.utils.data.DataLoader(trainset, batch_size=4,shuffle=True, num_workers=4)\n",
    "# testloader = torch.utils.data.DataLoader(trainset, batch_size=4,shuffle=True, num_workers=4)\n",
    "# valloader = torch.utils.data.DataLoader(trainset, batch_size=4,shuffle=True, num_workers=4)\n"
   ]
  },
  {
   "cell_type": "code",
   "execution_count": 6,
   "metadata": {},
   "outputs": [
    {
     "data": {
      "image/png": "[encoded data removed]",
      "text/plain": [
       "<Figure size 640x480 with 1 Axes>"
      ]
     },
     "metadata": {},
     "output_type": "display_data"
    },
    {
     "name": "stdout",
     "output_type": "stream",
     "text": [
      "Amaranthus Viridis (Arive-Dantu) Nyctanthes Arbor-tristis (Parijata) Mentha (Mint) Nyctanthes Arbor-tristis (Parijata)\n"
     ]
    }
   ],
   "source": [
    "import numpy as np\n",
    "import torchvision\n",
    "\n",
    "import matplotlib.pyplot as plt\n",
    "\n",
    "# Ambil batch pertama dari train_loader\n",
    "data_iter = iter(trainloader)\n",
    "images, labels = next(data_iter)\n",
    "\n",
    "# Fungsi untuk menampilkan gambar\n",
    "def imshow(img):\n",
    "    img = img / 2 + 0.5  # Unnormalize\n",
    "    npimg = img.numpy()\n",
    "    plt.imshow(np.transpose(npimg, (1, 2, 0)))\n",
    "    plt.show()\n",
    "\n",
    "# Tampilkan grid gambar\n",
    "imshow(torchvision.utils.make_grid(images))\n",
    "\n",
    "# Tampilkan label\n",
    "classes = ['Alpinia Galanga (Rasna)', 'Amaranthus Viridis (Arive-Dantu)', 'Artocarpus Heterophyllus (Jackfruit)', 'Azadirachta Indica (Neem)', 'Basella Alba (Basale)', 'Brassica Juncea (Indian Mustard)', 'Carissa Carandas (Karanda)', 'Citrus Limon (Lemon)', 'Ficus Auriculata (Roxburgh fig)', 'Ficus Religiosa (Peepal Tree)', 'Hibiscus Rosa-sinensis', 'Jasminum (Jasmine)', 'Mangifera Indica (Mango)', 'Mentha (Mint)', 'Moringa Oleifera (Drumstick)', 'Muntingia Calabura (Jamaica Cherry-Gasagase)', 'Murraya Koenigii (Curry)', 'Nerium Oleander (Oleander)', 'Nyctanthes Arbor-tristis (Parijata)', 'Ocimum Tenuiflorum (Tulsi)', 'Piper Betle (Betel)', 'Plectranthus Amboinicus (Mexican Mint)', 'Pongamia Pinnata (Indian Beech)', 'Psidium Guajava (Guava)', 'Punica Granatum (Pomegranate)', 'Santalum Album (Sandalwood)', 'Syzygium Cumini (Jamun)', 'Syzygium Jambos (Rose Apple)', 'Tabernaemontana Divaricata (Crape Jasmine)', 'Trigonella Foenum-graecum (Fenugreek)']\n",
    "print(' '.join(f'{classes[labels[j]]:5s}' for j in range(len(labels))))"
   ]
  },
  {
   "cell_type": "code",
   "execution_count": 5,
   "metadata": {},
   "outputs": [
    {
     "name": "stdout",
     "output_type": "stream",
     "text": [
      "Using device: cuda\n"
     ]
    }
   ],
   "source": [
    "device = torch.device('cuda' if torch.cuda.is_available() else 'cpu')\n",
    "print('Using device:', device)"
   ]
  },
  {
   "cell_type": "code",
   "execution_count": 6,
   "metadata": {},
   "outputs": [
    {
     "data": {
      "text/plain": [
       "ViT(\n",
       "  (to_patch_embedding): Sequential(\n",
       "    (0): Rearrange('b c (h p1) (w p2) -> b (h w) (p1 p2 c)', p1=32, p2=32)\n",
       "    (1): LayerNorm((3072,), eps=1e-05, elementwise_affine=True)\n",
       "    (2): Linear(in_features=3072, out_features=1024, bias=True)\n",
       "    (3): LayerNorm((1024,), eps=1e-05, elementwise_affine=True)\n",
       "  )\n",
       "  (dropout): Dropout(p=0.0, inplace=False)\n",
       "  (transformer): Transformer(\n",
       "    (norm): LayerNorm((1024,), eps=1e-05, elementwise_affine=True)\n",
       "    (layers): ModuleList(\n",
       "      (0-5): 6 x ModuleList(\n",
       "        (0): Attention(\n",
       "          (norm): LayerNorm((1024,), eps=1e-05, elementwise_affine=True)\n",
       "          (attend): Softmax(dim=-1)\n",
       "          (dropout): Dropout(p=0.0, inplace=False)\n",
       "          (to_qkv): Linear(in_features=1024, out_features=3072, bias=False)\n",
       "          (to_out): Sequential(\n",
       "            (0): Linear(in_features=1024, out_features=1024, bias=True)\n",
       "            (1): Dropout(p=0.0, inplace=False)\n",
       "          )\n",
       "        )\n",
       "        (1): FeedForward(\n",
       "          (net): Sequential(\n",
       "            (0): LayerNorm((1024,), eps=1e-05, elementwise_affine=True)\n",
       "            (1): Linear(in_features=1024, out_features=2048, bias=True)\n",
       "            (2): GELU(approximate='none')\n",
       "            (3): Dropout(p=0.0, inplace=False)\n",
       "            (4): Linear(in_features=2048, out_features=1024, bias=True)\n",
       "            (5): Dropout(p=0.0, inplace=False)\n",
       "          )\n",
       "        )\n",
       "      )\n",
       "    )\n",
       "  )\n",
       "  (to_latent): Identity()\n",
       "  (mlp_head): Linear(in_features=1024, out_features=30, bias=True)\n",
       ")"
      ]
     },
     "execution_count": 6,
     "metadata": {},
     "output_type": "execute_result"
    }
   ],
   "source": [
    "v.to(device)"
   ]
  },
  {
   "cell_type": "markdown",
   "metadata": {},
   "source": [
    "Kode Zufar"
   ]
  },
  {
   "cell_type": "markdown",
   "metadata": {},
   "source": [
    "Kode Zufar + GPT tambahin akurasi doang"
   ]
  },
  {
   "cell_type": "code",
   "execution_count": 7,
   "metadata": {},
   "outputs": [
    {
     "name": "stderr",
     "output_type": "stream",
     "text": [
      "Epoch 1/100: 321it [00:04, 68.97it/s]\n"
     ]
    },
    {
     "name": "stdout",
     "output_type": "stream",
     "text": [
      "Epoch [1/100], Training Accuracy: 9.58%, Training Loss: 3.6397\n",
      "Epoch [1/100], Validation Accuracy: 19.64%, Validation Loss: 3.1148\n"
     ]
    },
    {
     "name": "stderr",
     "output_type": "stream",
     "text": [
      "Epoch 2/100: 321it [00:04, 68.53it/s]\n"
     ]
    },
    {
     "name": "stdout",
     "output_type": "stream",
     "text": [
      "Epoch [2/100], Training Accuracy: 21.65%, Training Loss: 2.9016\n",
      "Epoch [2/100], Validation Accuracy: 26.91%, Validation Loss: 2.5945\n"
     ]
    },
    {
     "name": "stderr",
     "output_type": "stream",
     "text": [
      "Epoch 3/100: 321it [00:04, 72.04it/s]\n"
     ]
    },
    {
     "name": "stdout",
     "output_type": "stream",
     "text": [
      "Epoch [3/100], Training Accuracy: 39.17%, Training Loss: 2.0890\n",
      "Epoch [3/100], Validation Accuracy: 43.64%, Validation Loss: 2.2189\n"
     ]
    },
    {
     "name": "stderr",
     "output_type": "stream",
     "text": [
      "Epoch 4/100: 321it [00:04, 69.30it/s]\n"
     ]
    },
    {
     "name": "stdout",
     "output_type": "stream",
     "text": [
      "Epoch [4/100], Training Accuracy: 53.66%, Training Loss: 1.5658\n",
      "Epoch [4/100], Validation Accuracy: 62.55%, Validation Loss: 1.3267\n"
     ]
    },
    {
     "name": "stderr",
     "output_type": "stream",
     "text": [
      "Epoch 5/100: 321it [00:04, 66.77it/s]\n"
     ]
    },
    {
     "name": "stdout",
     "output_type": "stream",
     "text": [
      "Epoch [5/100], Training Accuracy: 67.52%, Training Loss: 1.0801\n",
      "Epoch [5/100], Validation Accuracy: 67.64%, Validation Loss: 1.0921\n"
     ]
    },
    {
     "name": "stderr",
     "output_type": "stream",
     "text": [
      "Epoch 6/100: 321it [00:04, 68.10it/s]\n"
     ]
    },
    {
     "name": "stdout",
     "output_type": "stream",
     "text": [
      "Epoch [6/100], Training Accuracy: 74.14%, Training Loss: 0.8129\n",
      "Epoch [6/100], Validation Accuracy: 66.55%, Validation Loss: 1.0602\n"
     ]
    },
    {
     "name": "stderr",
     "output_type": "stream",
     "text": [
      "Epoch 7/100: 321it [00:04, 67.50it/s]\n"
     ]
    },
    {
     "name": "stdout",
     "output_type": "stream",
     "text": [
      "Epoch [7/100], Training Accuracy: 83.49%, Training Loss: 0.5618\n",
      "Epoch [7/100], Validation Accuracy: 74.55%, Validation Loss: 0.9989\n"
     ]
    },
    {
     "name": "stderr",
     "output_type": "stream",
     "text": [
      "Epoch 8/100: 321it [00:04, 66.59it/s]\n"
     ]
    },
    {
     "name": "stdout",
     "output_type": "stream",
     "text": [
      "Epoch [8/100], Training Accuracy: 86.45%, Training Loss: 0.3817\n",
      "Epoch [8/100], Validation Accuracy: 71.64%, Validation Loss: 0.9536\n"
     ]
    },
    {
     "name": "stderr",
     "output_type": "stream",
     "text": [
      "Epoch 9/100: 321it [00:04, 67.84it/s]\n"
     ]
    },
    {
     "name": "stdout",
     "output_type": "stream",
     "text": [
      "Epoch [9/100], Training Accuracy: 91.12%, Training Loss: 0.2838\n",
      "Epoch [9/100], Validation Accuracy: 75.64%, Validation Loss: 0.7597\n"
     ]
    },
    {
     "name": "stderr",
     "output_type": "stream",
     "text": [
      "Epoch 10/100: 321it [00:04, 69.31it/s]\n"
     ]
    },
    {
     "name": "stdout",
     "output_type": "stream",
     "text": [
      "Epoch [10/100], Training Accuracy: 94.39%, Training Loss: 0.1603\n",
      "Epoch [10/100], Validation Accuracy: 78.18%, Validation Loss: 0.9329\n"
     ]
    },
    {
     "name": "stderr",
     "output_type": "stream",
     "text": [
      "Epoch 11/100: 321it [00:04, 67.84it/s]\n"
     ]
    },
    {
     "name": "stdout",
     "output_type": "stream",
     "text": [
      "Epoch [11/100], Training Accuracy: 98.60%, Training Loss: 0.0439\n",
      "Epoch [11/100], Validation Accuracy: 78.91%, Validation Loss: 0.8496\n"
     ]
    },
    {
     "name": "stderr",
     "output_type": "stream",
     "text": [
      "Epoch 12/100: 321it [00:04, 67.93it/s]\n"
     ]
    },
    {
     "name": "stdout",
     "output_type": "stream",
     "text": [
      "Epoch [12/100], Training Accuracy: 99.61%, Training Loss: 0.0268\n",
      "Epoch [12/100], Validation Accuracy: 81.09%, Validation Loss: 0.8191\n"
     ]
    },
    {
     "name": "stderr",
     "output_type": "stream",
     "text": [
      "Epoch 13/100: 321it [00:04, 68.90it/s]\n"
     ]
    },
    {
     "name": "stdout",
     "output_type": "stream",
     "text": [
      "Epoch [13/100], Training Accuracy: 100.00%, Training Loss: 0.0065\n",
      "Epoch [13/100], Validation Accuracy: 77.82%, Validation Loss: 0.8015\n"
     ]
    },
    {
     "name": "stderr",
     "output_type": "stream",
     "text": [
      "Epoch 14/100: 321it [00:04, 68.99it/s]\n"
     ]
    },
    {
     "name": "stdout",
     "output_type": "stream",
     "text": [
      "Epoch [14/100], Training Accuracy: 100.00%, Training Loss: 0.0037\n",
      "Epoch [14/100], Validation Accuracy: 78.91%, Validation Loss: 0.8131\n"
     ]
    },
    {
     "name": "stderr",
     "output_type": "stream",
     "text": [
      "Epoch 15/100: 321it [00:04, 69.43it/s]\n"
     ]
    },
    {
     "name": "stdout",
     "output_type": "stream",
     "text": [
      "Epoch [15/100], Training Accuracy: 100.00%, Training Loss: 0.0031\n",
      "Epoch [15/100], Validation Accuracy: 79.64%, Validation Loss: 0.8214\n"
     ]
    },
    {
     "name": "stderr",
     "output_type": "stream",
     "text": [
      "Epoch 16/100: 321it [00:04, 68.84it/s]\n"
     ]
    },
    {
     "name": "stdout",
     "output_type": "stream",
     "text": [
      "Epoch [16/100], Training Accuracy: 100.00%, Training Loss: 0.0027\n",
      "Epoch [16/100], Validation Accuracy: 80.00%, Validation Loss: 0.8247\n"
     ]
    },
    {
     "name": "stderr",
     "output_type": "stream",
     "text": [
      "Epoch 17/100: 321it [00:04, 68.64it/s]\n"
     ]
    },
    {
     "name": "stdout",
     "output_type": "stream",
     "text": [
      "Epoch [17/100], Training Accuracy: 100.00%, Training Loss: 0.0024\n",
      "Epoch [17/100], Validation Accuracy: 80.00%, Validation Loss: 0.8302\n"
     ]
    },
    {
     "name": "stderr",
     "output_type": "stream",
     "text": [
      "Epoch 18/100: 321it [00:04, 70.00it/s]\n"
     ]
    },
    {
     "name": "stdout",
     "output_type": "stream",
     "text": [
      "Epoch [18/100], Training Accuracy: 100.00%, Training Loss: 0.0022\n",
      "Epoch [18/100], Validation Accuracy: 79.64%, Validation Loss: 0.8325\n"
     ]
    },
    {
     "name": "stderr",
     "output_type": "stream",
     "text": [
      "Epoch 19/100: 321it [00:04, 69.29it/s]\n"
     ]
    },
    {
     "name": "stdout",
     "output_type": "stream",
     "text": [
      "Epoch [19/100], Training Accuracy: 100.00%, Training Loss: 0.0020\n",
      "Epoch [19/100], Validation Accuracy: 80.73%, Validation Loss: 0.8388\n"
     ]
    },
    {
     "name": "stderr",
     "output_type": "stream",
     "text": [
      "Epoch 20/100: 321it [00:04, 69.05it/s]\n"
     ]
    },
    {
     "name": "stdout",
     "output_type": "stream",
     "text": [
      "Epoch [20/100], Training Accuracy: 100.00%, Training Loss: 0.0019\n",
      "Epoch [20/100], Validation Accuracy: 79.64%, Validation Loss: 0.8387\n"
     ]
    },
    {
     "name": "stderr",
     "output_type": "stream",
     "text": [
      "Epoch 21/100: 321it [00:04, 70.06it/s]\n"
     ]
    },
    {
     "name": "stdout",
     "output_type": "stream",
     "text": [
      "Epoch [21/100], Training Accuracy: 100.00%, Training Loss: 0.0018\n",
      "Epoch [21/100], Validation Accuracy: 80.73%, Validation Loss: 0.8368\n"
     ]
    },
    {
     "name": "stderr",
     "output_type": "stream",
     "text": [
      "Epoch 22/100: 321it [00:04, 69.43it/s]\n"
     ]
    },
    {
     "name": "stdout",
     "output_type": "stream",
     "text": [
      "Epoch [22/100], Training Accuracy: 100.00%, Training Loss: 0.0017\n",
      "Epoch [22/100], Validation Accuracy: 80.00%, Validation Loss: 0.8434\n"
     ]
    },
    {
     "name": "stderr",
     "output_type": "stream",
     "text": [
      "Epoch 23/100: 321it [00:04, 68.66it/s]\n"
     ]
    },
    {
     "name": "stdout",
     "output_type": "stream",
     "text": [
      "Epoch [23/100], Training Accuracy: 100.00%, Training Loss: 0.0016\n",
      "Epoch [23/100], Validation Accuracy: 80.00%, Validation Loss: 0.8507\n"
     ]
    },
    {
     "name": "stderr",
     "output_type": "stream",
     "text": [
      "Epoch 24/100: 321it [00:04, 69.29it/s]\n"
     ]
    },
    {
     "name": "stdout",
     "output_type": "stream",
     "text": [
      "Epoch [24/100], Training Accuracy: 100.00%, Training Loss: 0.0015\n",
      "Epoch [24/100], Validation Accuracy: 80.36%, Validation Loss: 0.8649\n"
     ]
    },
    {
     "name": "stderr",
     "output_type": "stream",
     "text": [
      "Epoch 25/100: 321it [00:04, 72.03it/s]\n"
     ]
    },
    {
     "name": "stdout",
     "output_type": "stream",
     "text": [
      "Epoch [25/100], Training Accuracy: 100.00%, Training Loss: 0.0014\n",
      "Epoch [25/100], Validation Accuracy: 80.00%, Validation Loss: 0.8483\n"
     ]
    },
    {
     "name": "stderr",
     "output_type": "stream",
     "text": [
      "Epoch 26/100: 321it [00:04, 65.82it/s]\n"
     ]
    },
    {
     "name": "stdout",
     "output_type": "stream",
     "text": [
      "Epoch [26/100], Training Accuracy: 100.00%, Training Loss: 0.0013\n",
      "Epoch [26/100], Validation Accuracy: 80.36%, Validation Loss: 0.8506\n"
     ]
    },
    {
     "name": "stderr",
     "output_type": "stream",
     "text": [
      "Epoch 27/100: 321it [00:04, 67.27it/s]\n"
     ]
    },
    {
     "name": "stdout",
     "output_type": "stream",
     "text": [
      "Epoch [27/100], Training Accuracy: 100.00%, Training Loss: 0.0013\n",
      "Epoch [27/100], Validation Accuracy: 80.36%, Validation Loss: 0.8591\n"
     ]
    },
    {
     "name": "stderr",
     "output_type": "stream",
     "text": [
      "Epoch 28/100: 321it [00:04, 71.70it/s]\n"
     ]
    },
    {
     "name": "stdout",
     "output_type": "stream",
     "text": [
      "Epoch [28/100], Training Accuracy: 100.00%, Training Loss: 0.0012\n",
      "Epoch [28/100], Validation Accuracy: 80.36%, Validation Loss: 0.8623\n"
     ]
    },
    {
     "name": "stderr",
     "output_type": "stream",
     "text": [
      "Epoch 29/100: 321it [00:04, 68.47it/s]\n"
     ]
    },
    {
     "name": "stdout",
     "output_type": "stream",
     "text": [
      "Epoch [29/100], Training Accuracy: 100.00%, Training Loss: 0.0012\n",
      "Epoch [29/100], Validation Accuracy: 80.36%, Validation Loss: 0.8577\n"
     ]
    },
    {
     "name": "stderr",
     "output_type": "stream",
     "text": [
      "Epoch 30/100: 321it [00:04, 67.56it/s]\n"
     ]
    },
    {
     "name": "stdout",
     "output_type": "stream",
     "text": [
      "Epoch [30/100], Training Accuracy: 100.00%, Training Loss: 0.0011\n",
      "Epoch [30/100], Validation Accuracy: 80.36%, Validation Loss: 0.8652\n"
     ]
    },
    {
     "name": "stderr",
     "output_type": "stream",
     "text": [
      "Epoch 31/100: 321it [00:04, 68.14it/s]\n"
     ]
    },
    {
     "name": "stdout",
     "output_type": "stream",
     "text": [
      "Epoch [31/100], Training Accuracy: 100.00%, Training Loss: 0.0011\n",
      "Epoch [31/100], Validation Accuracy: 80.36%, Validation Loss: 0.8588\n"
     ]
    },
    {
     "name": "stderr",
     "output_type": "stream",
     "text": [
      "Epoch 32/100: 321it [00:04, 69.45it/s]\n"
     ]
    },
    {
     "name": "stdout",
     "output_type": "stream",
     "text": [
      "Epoch [32/100], Training Accuracy: 100.00%, Training Loss: 0.0011\n",
      "Epoch [32/100], Validation Accuracy: 80.36%, Validation Loss: 0.8659\n"
     ]
    },
    {
     "name": "stderr",
     "output_type": "stream",
     "text": [
      "Epoch 33/100: 321it [00:04, 69.78it/s]\n"
     ]
    },
    {
     "name": "stdout",
     "output_type": "stream",
     "text": [
      "Epoch [33/100], Training Accuracy: 100.00%, Training Loss: 0.0010\n",
      "Epoch [33/100], Validation Accuracy: 80.73%, Validation Loss: 0.8694\n"
     ]
    },
    {
     "name": "stderr",
     "output_type": "stream",
     "text": [
      "Epoch 34/100: 321it [00:04, 67.45it/s]\n"
     ]
    },
    {
     "name": "stdout",
     "output_type": "stream",
     "text": [
      "Epoch [34/100], Training Accuracy: 100.00%, Training Loss: 0.0010\n",
      "Epoch [34/100], Validation Accuracy: 80.73%, Validation Loss: 0.8624\n"
     ]
    },
    {
     "name": "stderr",
     "output_type": "stream",
     "text": [
      "Epoch 35/100: 321it [00:04, 68.00it/s]\n"
     ]
    },
    {
     "name": "stdout",
     "output_type": "stream",
     "text": [
      "Epoch [35/100], Training Accuracy: 100.00%, Training Loss: 0.0009\n",
      "Epoch [35/100], Validation Accuracy: 80.73%, Validation Loss: 0.8639\n"
     ]
    },
    {
     "name": "stderr",
     "output_type": "stream",
     "text": [
      "Epoch 36/100: 321it [00:04, 67.56it/s]\n"
     ]
    },
    {
     "name": "stdout",
     "output_type": "stream",
     "text": [
      "Epoch [36/100], Training Accuracy: 100.00%, Training Loss: 0.0009\n",
      "Epoch [36/100], Validation Accuracy: 80.73%, Validation Loss: 0.8700\n"
     ]
    },
    {
     "name": "stderr",
     "output_type": "stream",
     "text": [
      "Epoch 37/100: 321it [00:04, 67.33it/s]\n"
     ]
    },
    {
     "name": "stdout",
     "output_type": "stream",
     "text": [
      "Epoch [37/100], Training Accuracy: 100.00%, Training Loss: 0.0009\n",
      "Epoch [37/100], Validation Accuracy: 80.73%, Validation Loss: 0.8697\n"
     ]
    },
    {
     "name": "stderr",
     "output_type": "stream",
     "text": [
      "Epoch 38/100: 321it [00:04, 68.13it/s]\n"
     ]
    },
    {
     "name": "stdout",
     "output_type": "stream",
     "text": [
      "Epoch [38/100], Training Accuracy: 100.00%, Training Loss: 0.0009\n",
      "Epoch [38/100], Validation Accuracy: 80.73%, Validation Loss: 0.8763\n"
     ]
    },
    {
     "name": "stderr",
     "output_type": "stream",
     "text": [
      "Epoch 39/100: 321it [00:04, 68.18it/s]\n"
     ]
    },
    {
     "name": "stdout",
     "output_type": "stream",
     "text": [
      "Epoch [39/100], Training Accuracy: 100.00%, Training Loss: 0.0008\n",
      "Epoch [39/100], Validation Accuracy: 80.73%, Validation Loss: 0.8742\n"
     ]
    },
    {
     "name": "stderr",
     "output_type": "stream",
     "text": [
      "Epoch 40/100: 321it [00:04, 67.36it/s]\n"
     ]
    },
    {
     "name": "stdout",
     "output_type": "stream",
     "text": [
      "Epoch [40/100], Training Accuracy: 100.00%, Training Loss: 0.0008\n",
      "Epoch [40/100], Validation Accuracy: 80.73%, Validation Loss: 0.8788\n"
     ]
    },
    {
     "name": "stderr",
     "output_type": "stream",
     "text": [
      "Epoch 41/100: 321it [00:04, 71.78it/s]\n"
     ]
    },
    {
     "name": "stdout",
     "output_type": "stream",
     "text": [
      "Epoch [41/100], Training Accuracy: 100.00%, Training Loss: 0.0008\n",
      "Epoch [41/100], Validation Accuracy: 80.73%, Validation Loss: 0.8701\n"
     ]
    },
    {
     "name": "stderr",
     "output_type": "stream",
     "text": [
      "Epoch 42/100: 321it [00:04, 65.72it/s]\n"
     ]
    },
    {
     "name": "stdout",
     "output_type": "stream",
     "text": [
      "Epoch [42/100], Training Accuracy: 100.00%, Training Loss: 0.0008\n",
      "Epoch [42/100], Validation Accuracy: 80.73%, Validation Loss: 0.8713\n"
     ]
    },
    {
     "name": "stderr",
     "output_type": "stream",
     "text": [
      "Epoch 43/100: 321it [00:04, 68.25it/s]\n"
     ]
    },
    {
     "name": "stdout",
     "output_type": "stream",
     "text": [
      "Epoch [43/100], Training Accuracy: 100.00%, Training Loss: 0.0008\n",
      "Epoch [43/100], Validation Accuracy: 80.73%, Validation Loss: 0.8772\n"
     ]
    },
    {
     "name": "stderr",
     "output_type": "stream",
     "text": [
      "Epoch 44/100: 321it [00:04, 68.20it/s]\n"
     ]
    },
    {
     "name": "stdout",
     "output_type": "stream",
     "text": [
      "Epoch [44/100], Training Accuracy: 100.00%, Training Loss: 0.0007\n",
      "Epoch [44/100], Validation Accuracy: 80.73%, Validation Loss: 0.8800\n"
     ]
    },
    {
     "name": "stderr",
     "output_type": "stream",
     "text": [
      "Epoch 45/100: 321it [00:04, 67.25it/s]\n"
     ]
    },
    {
     "name": "stdout",
     "output_type": "stream",
     "text": [
      "Epoch [45/100], Training Accuracy: 100.00%, Training Loss: 0.0007\n",
      "Epoch [45/100], Validation Accuracy: 80.73%, Validation Loss: 0.8735\n"
     ]
    },
    {
     "name": "stderr",
     "output_type": "stream",
     "text": [
      "Epoch 46/100: 321it [00:04, 69.29it/s]\n"
     ]
    },
    {
     "name": "stdout",
     "output_type": "stream",
     "text": [
      "Epoch [46/100], Training Accuracy: 100.00%, Training Loss: 0.0007\n",
      "Epoch [46/100], Validation Accuracy: 80.73%, Validation Loss: 0.8819\n"
     ]
    },
    {
     "name": "stderr",
     "output_type": "stream",
     "text": [
      "Epoch 47/100: 321it [00:04, 68.31it/s]\n"
     ]
    },
    {
     "name": "stdout",
     "output_type": "stream",
     "text": [
      "Epoch [47/100], Training Accuracy: 100.00%, Training Loss: 0.0007\n",
      "Epoch [47/100], Validation Accuracy: 80.73%, Validation Loss: 0.8753\n"
     ]
    },
    {
     "name": "stderr",
     "output_type": "stream",
     "text": [
      "Epoch 48/100: 321it [00:04, 69.61it/s]\n"
     ]
    },
    {
     "name": "stdout",
     "output_type": "stream",
     "text": [
      "Epoch [48/100], Training Accuracy: 100.00%, Training Loss: 0.0007\n",
      "Epoch [48/100], Validation Accuracy: 80.73%, Validation Loss: 0.8832\n"
     ]
    },
    {
     "name": "stderr",
     "output_type": "stream",
     "text": [
      "Epoch 49/100: 321it [00:04, 67.81it/s]\n"
     ]
    },
    {
     "name": "stdout",
     "output_type": "stream",
     "text": [
      "Epoch [49/100], Training Accuracy: 100.00%, Training Loss: 0.0007\n",
      "Epoch [49/100], Validation Accuracy: 80.73%, Validation Loss: 0.8776\n"
     ]
    },
    {
     "name": "stderr",
     "output_type": "stream",
     "text": [
      "Epoch 50/100: 321it [00:04, 67.67it/s]\n"
     ]
    },
    {
     "name": "stdout",
     "output_type": "stream",
     "text": [
      "Epoch [50/100], Training Accuracy: 100.00%, Training Loss: 0.0006\n",
      "Epoch [50/100], Validation Accuracy: 80.73%, Validation Loss: 0.8782\n"
     ]
    },
    {
     "name": "stderr",
     "output_type": "stream",
     "text": [
      "Epoch 51/100: 321it [00:04, 66.15it/s]\n"
     ]
    },
    {
     "name": "stdout",
     "output_type": "stream",
     "text": [
      "Epoch [51/100], Training Accuracy: 100.00%, Training Loss: 0.0006\n",
      "Epoch [51/100], Validation Accuracy: 80.73%, Validation Loss: 0.8784\n"
     ]
    },
    {
     "name": "stderr",
     "output_type": "stream",
     "text": [
      "Epoch 52/100: 321it [00:04, 65.38it/s]\n"
     ]
    },
    {
     "name": "stdout",
     "output_type": "stream",
     "text": [
      "Epoch [52/100], Training Accuracy: 100.00%, Training Loss: 0.0006\n",
      "Epoch [52/100], Validation Accuracy: 80.73%, Validation Loss: 0.8916\n"
     ]
    },
    {
     "name": "stderr",
     "output_type": "stream",
     "text": [
      "Epoch 53/100: 321it [00:04, 67.15it/s]\n"
     ]
    },
    {
     "name": "stdout",
     "output_type": "stream",
     "text": [
      "Epoch [53/100], Training Accuracy: 100.00%, Training Loss: 0.0006\n",
      "Epoch [53/100], Validation Accuracy: 80.73%, Validation Loss: 0.8797\n"
     ]
    },
    {
     "name": "stderr",
     "output_type": "stream",
     "text": [
      "Epoch 54/100: 321it [00:04, 68.06it/s]\n"
     ]
    },
    {
     "name": "stdout",
     "output_type": "stream",
     "text": [
      "Epoch [54/100], Training Accuracy: 100.00%, Training Loss: 0.0006\n",
      "Epoch [54/100], Validation Accuracy: 80.73%, Validation Loss: 0.8866\n"
     ]
    },
    {
     "name": "stderr",
     "output_type": "stream",
     "text": [
      "Epoch 55/100: 321it [00:04, 67.19it/s]\n"
     ]
    },
    {
     "name": "stdout",
     "output_type": "stream",
     "text": [
      "Epoch [55/100], Training Accuracy: 100.00%, Training Loss: 0.0006\n",
      "Epoch [55/100], Validation Accuracy: 80.73%, Validation Loss: 0.8938\n"
     ]
    },
    {
     "name": "stderr",
     "output_type": "stream",
     "text": [
      "Epoch 56/100: 321it [00:04, 68.11it/s]\n"
     ]
    },
    {
     "name": "stdout",
     "output_type": "stream",
     "text": [
      "Epoch [56/100], Training Accuracy: 100.00%, Training Loss: 0.0006\n",
      "Epoch [56/100], Validation Accuracy: 80.73%, Validation Loss: 0.9034\n"
     ]
    },
    {
     "name": "stderr",
     "output_type": "stream",
     "text": [
      "Epoch 57/100: 321it [00:04, 67.81it/s]\n"
     ]
    },
    {
     "name": "stdout",
     "output_type": "stream",
     "text": [
      "Epoch [57/100], Training Accuracy: 100.00%, Training Loss: 0.0006\n",
      "Epoch [57/100], Validation Accuracy: 80.73%, Validation Loss: 0.8830\n"
     ]
    },
    {
     "name": "stderr",
     "output_type": "stream",
     "text": [
      "Epoch 58/100: 321it [00:04, 65.81it/s]\n"
     ]
    },
    {
     "name": "stdout",
     "output_type": "stream",
     "text": [
      "Epoch [58/100], Training Accuracy: 100.00%, Training Loss: 0.0005\n",
      "Epoch [58/100], Validation Accuracy: 80.73%, Validation Loss: 0.8826\n"
     ]
    },
    {
     "name": "stderr",
     "output_type": "stream",
     "text": [
      "Epoch 59/100: 321it [00:04, 68.52it/s]\n"
     ]
    },
    {
     "name": "stdout",
     "output_type": "stream",
     "text": [
      "Epoch [59/100], Training Accuracy: 100.00%, Training Loss: 0.0005\n",
      "Epoch [59/100], Validation Accuracy: 80.73%, Validation Loss: 0.8892\n"
     ]
    },
    {
     "name": "stderr",
     "output_type": "stream",
     "text": [
      "Epoch 60/100: 321it [00:04, 67.93it/s]\n"
     ]
    },
    {
     "name": "stdout",
     "output_type": "stream",
     "text": [
      "Epoch [60/100], Training Accuracy: 100.00%, Training Loss: 0.0005\n",
      "Epoch [60/100], Validation Accuracy: 80.73%, Validation Loss: 0.8921\n"
     ]
    },
    {
     "name": "stderr",
     "output_type": "stream",
     "text": [
      "Epoch 61/100: 321it [00:04, 67.79it/s]\n"
     ]
    },
    {
     "name": "stdout",
     "output_type": "stream",
     "text": [
      "Epoch [61/100], Training Accuracy: 100.00%, Training Loss: 0.0005\n",
      "Epoch [61/100], Validation Accuracy: 80.73%, Validation Loss: 0.8943\n"
     ]
    },
    {
     "name": "stderr",
     "output_type": "stream",
     "text": [
      "Epoch 62/100: 321it [00:04, 66.94it/s]\n"
     ]
    },
    {
     "name": "stdout",
     "output_type": "stream",
     "text": [
      "Epoch [62/100], Training Accuracy: 100.00%, Training Loss: 0.0005\n",
      "Epoch [62/100], Validation Accuracy: 80.73%, Validation Loss: 0.8878\n"
     ]
    },
    {
     "name": "stderr",
     "output_type": "stream",
     "text": [
      "Epoch 63/100: 321it [00:04, 66.72it/s]\n"
     ]
    },
    {
     "name": "stdout",
     "output_type": "stream",
     "text": [
      "Epoch [63/100], Training Accuracy: 100.00%, Training Loss: 0.0005\n",
      "Epoch [63/100], Validation Accuracy: 80.73%, Validation Loss: 0.8856\n"
     ]
    },
    {
     "name": "stderr",
     "output_type": "stream",
     "text": [
      "Epoch 64/100: 321it [00:04, 68.80it/s]\n"
     ]
    },
    {
     "name": "stdout",
     "output_type": "stream",
     "text": [
      "Epoch [64/100], Training Accuracy: 100.00%, Training Loss: 0.0005\n",
      "Epoch [64/100], Validation Accuracy: 81.09%, Validation Loss: 0.8860\n"
     ]
    },
    {
     "name": "stderr",
     "output_type": "stream",
     "text": [
      "Epoch 65/100: 321it [00:04, 67.92it/s]\n"
     ]
    },
    {
     "name": "stdout",
     "output_type": "stream",
     "text": [
      "Epoch [65/100], Training Accuracy: 100.00%, Training Loss: 0.0005\n",
      "Epoch [65/100], Validation Accuracy: 80.73%, Validation Loss: 0.8879\n"
     ]
    },
    {
     "name": "stderr",
     "output_type": "stream",
     "text": [
      "Epoch 66/100: 321it [00:04, 68.76it/s]\n"
     ]
    },
    {
     "name": "stdout",
     "output_type": "stream",
     "text": [
      "Epoch [66/100], Training Accuracy: 100.00%, Training Loss: 0.0005\n",
      "Epoch [66/100], Validation Accuracy: 81.09%, Validation Loss: 0.8973\n"
     ]
    },
    {
     "name": "stderr",
     "output_type": "stream",
     "text": [
      "Epoch 67/100: 321it [00:04, 68.10it/s]\n"
     ]
    },
    {
     "name": "stdout",
     "output_type": "stream",
     "text": [
      "Epoch [67/100], Training Accuracy: 100.00%, Training Loss: 0.0005\n",
      "Epoch [67/100], Validation Accuracy: 80.73%, Validation Loss: 0.8924\n"
     ]
    },
    {
     "name": "stderr",
     "output_type": "stream",
     "text": [
      "Epoch 68/100: 321it [00:04, 65.41it/s]\n"
     ]
    },
    {
     "name": "stdout",
     "output_type": "stream",
     "text": [
      "Epoch [68/100], Training Accuracy: 100.00%, Training Loss: 0.0005\n",
      "Epoch [68/100], Validation Accuracy: 80.73%, Validation Loss: 0.8930\n"
     ]
    },
    {
     "name": "stderr",
     "output_type": "stream",
     "text": [
      "Epoch 69/100: 321it [00:04, 70.93it/s]\n"
     ]
    },
    {
     "name": "stdout",
     "output_type": "stream",
     "text": [
      "Epoch [69/100], Training Accuracy: 100.00%, Training Loss: 0.0005\n",
      "Epoch [69/100], Validation Accuracy: 81.09%, Validation Loss: 0.8885\n"
     ]
    },
    {
     "name": "stderr",
     "output_type": "stream",
     "text": [
      "Epoch 70/100: 321it [00:04, 67.99it/s]\n"
     ]
    },
    {
     "name": "stdout",
     "output_type": "stream",
     "text": [
      "Epoch [70/100], Training Accuracy: 100.00%, Training Loss: 0.0004\n",
      "Epoch [70/100], Validation Accuracy: 81.09%, Validation Loss: 0.8894\n"
     ]
    },
    {
     "name": "stderr",
     "output_type": "stream",
     "text": [
      "Epoch 71/100: 321it [00:04, 68.78it/s]\n"
     ]
    },
    {
     "name": "stdout",
     "output_type": "stream",
     "text": [
      "Epoch [71/100], Training Accuracy: 100.00%, Training Loss: 0.0004\n",
      "Epoch [71/100], Validation Accuracy: 81.09%, Validation Loss: 0.8894\n"
     ]
    },
    {
     "name": "stderr",
     "output_type": "stream",
     "text": [
      "Epoch 72/100: 321it [00:04, 66.91it/s]\n"
     ]
    },
    {
     "name": "stdout",
     "output_type": "stream",
     "text": [
      "Epoch [72/100], Training Accuracy: 100.00%, Training Loss: 0.0004\n",
      "Epoch [72/100], Validation Accuracy: 81.09%, Validation Loss: 0.8926\n"
     ]
    },
    {
     "name": "stderr",
     "output_type": "stream",
     "text": [
      "Epoch 73/100: 321it [00:04, 67.98it/s]\n"
     ]
    },
    {
     "name": "stdout",
     "output_type": "stream",
     "text": [
      "Epoch [73/100], Training Accuracy: 100.00%, Training Loss: 0.0004\n",
      "Epoch [73/100], Validation Accuracy: 80.73%, Validation Loss: 0.8937\n"
     ]
    },
    {
     "name": "stderr",
     "output_type": "stream",
     "text": [
      "Epoch 74/100: 321it [00:04, 69.61it/s]\n"
     ]
    },
    {
     "name": "stdout",
     "output_type": "stream",
     "text": [
      "Epoch [74/100], Training Accuracy: 100.00%, Training Loss: 0.0004\n",
      "Epoch [74/100], Validation Accuracy: 80.73%, Validation Loss: 0.8907\n"
     ]
    },
    {
     "name": "stderr",
     "output_type": "stream",
     "text": [
      "Epoch 75/100: 321it [00:04, 69.20it/s]\n"
     ]
    },
    {
     "name": "stdout",
     "output_type": "stream",
     "text": [
      "Epoch [75/100], Training Accuracy: 100.00%, Training Loss: 0.0004\n",
      "Epoch [75/100], Validation Accuracy: 80.73%, Validation Loss: 0.8943\n"
     ]
    },
    {
     "name": "stderr",
     "output_type": "stream",
     "text": [
      "Epoch 76/100: 321it [00:04, 68.59it/s]\n"
     ]
    },
    {
     "name": "stdout",
     "output_type": "stream",
     "text": [
      "Epoch [76/100], Training Accuracy: 100.00%, Training Loss: 0.0004\n",
      "Epoch [76/100], Validation Accuracy: 80.73%, Validation Loss: 0.9033\n"
     ]
    },
    {
     "name": "stderr",
     "output_type": "stream",
     "text": [
      "Epoch 77/100: 321it [00:04, 67.28it/s]\n"
     ]
    },
    {
     "name": "stdout",
     "output_type": "stream",
     "text": [
      "Epoch [77/100], Training Accuracy: 100.00%, Training Loss: 0.0004\n",
      "Epoch [77/100], Validation Accuracy: 80.73%, Validation Loss: 0.8933\n"
     ]
    },
    {
     "name": "stderr",
     "output_type": "stream",
     "text": [
      "Epoch 78/100: 321it [00:04, 67.42it/s]\n"
     ]
    },
    {
     "name": "stdout",
     "output_type": "stream",
     "text": [
      "Epoch [78/100], Training Accuracy: 100.00%, Training Loss: 0.0004\n",
      "Epoch [78/100], Validation Accuracy: 80.73%, Validation Loss: 0.8947\n"
     ]
    },
    {
     "name": "stderr",
     "output_type": "stream",
     "text": [
      "Epoch 79/100: 321it [00:04, 68.45it/s]\n"
     ]
    },
    {
     "name": "stdout",
     "output_type": "stream",
     "text": [
      "Epoch [79/100], Training Accuracy: 100.00%, Training Loss: 0.0004\n",
      "Epoch [79/100], Validation Accuracy: 80.73%, Validation Loss: 0.8926\n"
     ]
    },
    {
     "name": "stderr",
     "output_type": "stream",
     "text": [
      "Epoch 80/100: 321it [00:04, 67.12it/s]\n"
     ]
    },
    {
     "name": "stdout",
     "output_type": "stream",
     "text": [
      "Epoch [80/100], Training Accuracy: 100.00%, Training Loss: 0.0004\n",
      "Epoch [80/100], Validation Accuracy: 80.73%, Validation Loss: 0.8959\n"
     ]
    },
    {
     "name": "stderr",
     "output_type": "stream",
     "text": [
      "Epoch 81/100: 321it [00:04, 66.26it/s]\n"
     ]
    },
    {
     "name": "stdout",
     "output_type": "stream",
     "text": [
      "Epoch [81/100], Training Accuracy: 100.00%, Training Loss: 0.0004\n",
      "Epoch [81/100], Validation Accuracy: 80.73%, Validation Loss: 0.9004\n"
     ]
    },
    {
     "name": "stderr",
     "output_type": "stream",
     "text": [
      "Epoch 82/100: 321it [00:04, 67.32it/s]\n"
     ]
    },
    {
     "name": "stdout",
     "output_type": "stream",
     "text": [
      "Epoch [82/100], Training Accuracy: 100.00%, Training Loss: 0.0004\n",
      "Epoch [82/100], Validation Accuracy: 80.73%, Validation Loss: 0.8938\n"
     ]
    },
    {
     "name": "stderr",
     "output_type": "stream",
     "text": [
      "Epoch 83/100: 321it [00:04, 68.54it/s]\n"
     ]
    },
    {
     "name": "stdout",
     "output_type": "stream",
     "text": [
      "Epoch [83/100], Training Accuracy: 100.00%, Training Loss: 0.0004\n",
      "Epoch [83/100], Validation Accuracy: 80.73%, Validation Loss: 0.8987\n"
     ]
    },
    {
     "name": "stderr",
     "output_type": "stream",
     "text": [
      "Epoch 84/100: 321it [00:04, 68.31it/s]\n"
     ]
    },
    {
     "name": "stdout",
     "output_type": "stream",
     "text": [
      "Epoch [84/100], Training Accuracy: 100.00%, Training Loss: 0.0004\n",
      "Epoch [84/100], Validation Accuracy: 80.73%, Validation Loss: 0.8953\n"
     ]
    },
    {
     "name": "stderr",
     "output_type": "stream",
     "text": [
      "Epoch 85/100: 321it [00:04, 69.05it/s]\n"
     ]
    },
    {
     "name": "stdout",
     "output_type": "stream",
     "text": [
      "Epoch [85/100], Training Accuracy: 100.00%, Training Loss: 0.0004\n",
      "Epoch [85/100], Validation Accuracy: 80.73%, Validation Loss: 0.8953\n"
     ]
    },
    {
     "name": "stderr",
     "output_type": "stream",
     "text": [
      "Epoch 86/100: 321it [00:04, 67.94it/s]\n"
     ]
    },
    {
     "name": "stdout",
     "output_type": "stream",
     "text": [
      "Epoch [86/100], Training Accuracy: 100.00%, Training Loss: 0.0004\n",
      "Epoch [86/100], Validation Accuracy: 80.73%, Validation Loss: 0.9124\n"
     ]
    },
    {
     "name": "stderr",
     "output_type": "stream",
     "text": [
      "Epoch 87/100: 321it [00:04, 65.85it/s]\n"
     ]
    },
    {
     "name": "stdout",
     "output_type": "stream",
     "text": [
      "Epoch [87/100], Training Accuracy: 100.00%, Training Loss: 0.0004\n",
      "Epoch [87/100], Validation Accuracy: 80.73%, Validation Loss: 0.8968\n"
     ]
    },
    {
     "name": "stderr",
     "output_type": "stream",
     "text": [
      "Epoch 88/100: 321it [00:04, 68.96it/s]\n"
     ]
    },
    {
     "name": "stdout",
     "output_type": "stream",
     "text": [
      "Epoch [88/100], Training Accuracy: 100.00%, Training Loss: 0.0003\n",
      "Epoch [88/100], Validation Accuracy: 80.73%, Validation Loss: 0.8969\n"
     ]
    },
    {
     "name": "stderr",
     "output_type": "stream",
     "text": [
      "Epoch 89/100: 321it [00:04, 68.01it/s]\n"
     ]
    },
    {
     "name": "stdout",
     "output_type": "stream",
     "text": [
      "Epoch [89/100], Training Accuracy: 100.00%, Training Loss: 0.0003\n",
      "Epoch [89/100], Validation Accuracy: 80.73%, Validation Loss: 0.9003\n"
     ]
    },
    {
     "name": "stderr",
     "output_type": "stream",
     "text": [
      "Epoch 90/100: 321it [00:04, 68.49it/s]\n"
     ]
    },
    {
     "name": "stdout",
     "output_type": "stream",
     "text": [
      "Epoch [90/100], Training Accuracy: 100.00%, Training Loss: 0.0003\n",
      "Epoch [90/100], Validation Accuracy: 80.73%, Validation Loss: 0.8967\n"
     ]
    },
    {
     "name": "stderr",
     "output_type": "stream",
     "text": [
      "Epoch 91/100: 321it [00:04, 68.22it/s]\n"
     ]
    },
    {
     "name": "stdout",
     "output_type": "stream",
     "text": [
      "Epoch [91/100], Training Accuracy: 100.00%, Training Loss: 0.0003\n",
      "Epoch [91/100], Validation Accuracy: 80.73%, Validation Loss: 0.8974\n"
     ]
    },
    {
     "name": "stderr",
     "output_type": "stream",
     "text": [
      "Epoch 92/100: 321it [00:04, 68.90it/s]\n"
     ]
    },
    {
     "name": "stdout",
     "output_type": "stream",
     "text": [
      "Epoch [92/100], Training Accuracy: 100.00%, Training Loss: 0.0003\n",
      "Epoch [92/100], Validation Accuracy: 80.73%, Validation Loss: 0.8977\n"
     ]
    },
    {
     "name": "stderr",
     "output_type": "stream",
     "text": [
      "Epoch 93/100: 321it [00:04, 69.09it/s]\n"
     ]
    },
    {
     "name": "stdout",
     "output_type": "stream",
     "text": [
      "Epoch [93/100], Training Accuracy: 100.00%, Training Loss: 0.0003\n",
      "Epoch [93/100], Validation Accuracy: 80.73%, Validation Loss: 0.9014\n"
     ]
    },
    {
     "name": "stderr",
     "output_type": "stream",
     "text": [
      "Epoch 94/100: 321it [00:04, 69.48it/s]\n"
     ]
    },
    {
     "name": "stdout",
     "output_type": "stream",
     "text": [
      "Epoch [94/100], Training Accuracy: 100.00%, Training Loss: 0.0003\n",
      "Epoch [94/100], Validation Accuracy: 80.73%, Validation Loss: 0.8983\n"
     ]
    },
    {
     "name": "stderr",
     "output_type": "stream",
     "text": [
      "Epoch 95/100: 321it [00:04, 69.22it/s]\n"
     ]
    },
    {
     "name": "stdout",
     "output_type": "stream",
     "text": [
      "Epoch [95/100], Training Accuracy: 100.00%, Training Loss: 0.0003\n",
      "Epoch [95/100], Validation Accuracy: 80.73%, Validation Loss: 0.9088\n"
     ]
    },
    {
     "name": "stderr",
     "output_type": "stream",
     "text": [
      "Epoch 96/100: 321it [00:04, 69.05it/s]\n"
     ]
    },
    {
     "name": "stdout",
     "output_type": "stream",
     "text": [
      "Epoch [96/100], Training Accuracy: 100.00%, Training Loss: 0.0003\n",
      "Epoch [96/100], Validation Accuracy: 80.73%, Validation Loss: 0.9011\n"
     ]
    },
    {
     "name": "stderr",
     "output_type": "stream",
     "text": [
      "Epoch 97/100: 321it [00:04, 69.91it/s]\n"
     ]
    },
    {
     "name": "stdout",
     "output_type": "stream",
     "text": [
      "Epoch [97/100], Training Accuracy: 100.00%, Training Loss: 0.0003\n",
      "Epoch [97/100], Validation Accuracy: 80.73%, Validation Loss: 0.9039\n"
     ]
    },
    {
     "name": "stderr",
     "output_type": "stream",
     "text": [
      "Epoch 98/100: 321it [00:04, 69.49it/s]\n"
     ]
    },
    {
     "name": "stdout",
     "output_type": "stream",
     "text": [
      "Epoch [98/100], Training Accuracy: 100.00%, Training Loss: 0.0003\n",
      "Epoch [98/100], Validation Accuracy: 80.73%, Validation Loss: 0.8992\n"
     ]
    },
    {
     "name": "stderr",
     "output_type": "stream",
     "text": [
      "Epoch 99/100: 321it [00:04, 67.08it/s]\n"
     ]
    },
    {
     "name": "stdout",
     "output_type": "stream",
     "text": [
      "Epoch [99/100], Training Accuracy: 100.00%, Training Loss: 0.0003\n",
      "Epoch [99/100], Validation Accuracy: 80.73%, Validation Loss: 0.9018\n"
     ]
    },
    {
     "name": "stderr",
     "output_type": "stream",
     "text": [
      "Epoch 100/100: 321it [00:04, 67.77it/s]\n"
     ]
    },
    {
     "name": "stdout",
     "output_type": "stream",
     "text": [
      "Epoch [100/100], Training Accuracy: 100.00%, Training Loss: 0.0003\n",
      "Epoch [100/100], Validation Accuracy: 80.73%, Validation Loss: 0.8998\n",
      "Finished Training\n",
      "Test Accuracy: 82.25%\n"
     ]
    },
    {
     "data": {
      "image/png": "[encoded data removed]",
      "text/plain": [
       "<Figure size 1200x500 with 2 Axes>"
      ]
     },
     "metadata": {},
     "output_type": "display_data"
    }
   ],
   "source": [
    "import torch\n",
    "from tqdm import tqdm\n",
    "import matplotlib.pyplot as plt\n",
    "import torch.nn as nn\n",
    "import torch.nn.functional as F\n",
    "import torch.optim as optim\n",
    "from tqdm import tqdm\n",
    "from torch.utils.data import DataLoader\n",
    "from torchvision import datasets, transforms\n",
    "\n",
    "criterion = nn.CrossEntropyLoss()\n",
    "optimizer = optim.SGD(v.parameters(), lr=0.001, momentum=0.9)\n",
    "\n",
    "# Inisialisasi list untuk menyimpan akurasi dan loss\n",
    "train_accuracies = []\n",
    "val_accuracies = []\n",
    "train_losses = []\n",
    "val_losses = []\n",
    "test_accuracy = 0  # Akurasi pengujian hanya dihitung sekali di akhir\n",
    "\n",
    "num_epochs = 100\n",
    "for epoch in range(num_epochs):  # loop over the dataset multiple times\n",
    "    correct = 0\n",
    "    total = 0\n",
    "    running_loss = 0.0  # Untuk menghitung training loss per epoch\n",
    "    \n",
    "    # Loop untuk setiap batch dalam trainloader\n",
    "    for i, data in tqdm(enumerate(trainloader, 0), desc=f'Epoch {epoch + 1}/{num_epochs}'):\n",
    "        inputs, labels = data\n",
    "        inputs, labels = inputs.to(device), labels.to(device)\n",
    "\n",
    "        # Zero the parameter gradients\n",
    "        optimizer.zero_grad()\n",
    "\n",
    "        # Forward + backward + optimize\n",
    "        outputs = v(inputs)\n",
    "        loss = criterion(outputs, labels)\n",
    "        loss.backward()\n",
    "        optimizer.step()\n",
    "\n",
    "        # Menghitung jumlah prediksi yang benar\n",
    "        _, predicted = torch.max(outputs.data, 1)  # Ambil kelas dengan probabilitas tertinggi\n",
    "        total += labels.size(0)  # Menambah jumlah data yang telah diproses\n",
    "        correct += (predicted == labels).sum().item()  # Hitung prediksi yang benar\n",
    "\n",
    "        # Menghitung training loss\n",
    "        running_loss += loss.item()\n",
    "\n",
    "    # Akurasi dan loss per epoch pada data pelatihan\n",
    "    accuracy = 100 * correct / total  # Akurasi dalam persentase\n",
    "    epoch_loss = running_loss / len(trainloader)  # Rata-rata loss per epoch\n",
    "    train_accuracies.append(accuracy)\n",
    "    train_losses.append(epoch_loss)\n",
    "    print(f'Epoch [{epoch + 1}/{num_epochs}], Training Accuracy: {accuracy:.2f}%, Training Loss: {epoch_loss:.4f}')\n",
    "\n",
    "    # Evaluasi pada data validasi\n",
    "    v.eval()  # Set v ke mode evaluasi\n",
    "    val_correct = 0\n",
    "    val_total = 0\n",
    "    val_running_loss = 0.0  # Untuk menghitung validation loss per epoch\n",
    "    with torch.no_grad():  # Non-aktifkan perhitungan gradien\n",
    "        for data in valloader:\n",
    "            inputs, labels = data\n",
    "            inputs, labels = inputs.to(device), labels.to(device)\n",
    "            outputs = v(inputs)\n",
    "            loss = criterion(outputs, labels)\n",
    "            val_running_loss += loss.item()  # Menghitung validation loss\n",
    "            _, predicted = torch.max(outputs.data, 1)\n",
    "            val_total += labels.size(0)\n",
    "            val_correct += (predicted == labels).sum().item()\n",
    "    \n",
    "    val_accuracy = 100 * val_correct / val_total\n",
    "    val_epoch_loss = val_running_loss / len(valloader)  # Rata-rata validation loss per epoch\n",
    "    val_accuracies.append(val_accuracy)\n",
    "    val_losses.append(val_epoch_loss)\n",
    "    print(f'Epoch [{epoch + 1}/{num_epochs}], Validation Accuracy: {val_accuracy:.2f}%, Validation Loss: {val_epoch_loss:.4f}')\n",
    "\n",
    "    v.train()  # Kembalikan v ke mode pelatihan\n",
    "\n",
    "print('Finished Training')\n",
    "\n",
    "# Evaluasi pada data uji setelah pelatihan selesai\n",
    "v.eval()  # Set v ke mode evaluasi\n",
    "test_correct = 0\n",
    "test_total = 0\n",
    "with torch.no_grad():  # Non-aktifkan perhitungan gradien\n",
    "    for data in testloader:\n",
    "        inputs, labels = data\n",
    "        inputs, labels = inputs.to(device), labels.to(device)\n",
    "        outputs = v(inputs)\n",
    "        _, predicted = torch.max(outputs.data, 1)\n",
    "        test_total += labels.size(0)\n",
    "        test_correct += (predicted == labels).sum().item()\n",
    "\n",
    "test_accuracy = 100 * test_correct / test_total\n",
    "print(f'Test Accuracy: {test_accuracy:.2f}%')\n",
    "\n",
    "# Plot grafik perbandingan akurasi dan loss\n",
    "plt.figure(figsize=(12, 5))\n",
    "\n",
    "# Plot Akurasi\n",
    "plt.subplot(1, 2, 1)\n",
    "plt.plot(range(1, num_epochs + 1), train_accuracies, label='Training Accuracy', marker='o')\n",
    "plt.plot(range(1, num_epochs + 1), val_accuracies, label='Validation Accuracy', marker='o')\n",
    "# plt.axhline(y=test_accuracy, color='r', linestyle='--', label=f'Test Accuracy: {test_accuracy:.2f}%')\n",
    "plt.xlabel('Epoch')\n",
    "plt.ylabel('Accuracy (%)')\n",
    "plt.title('Training vs Validation Accuracy')\n",
    "plt.legend()\n",
    "plt.grid(True)\n",
    "\n",
    "# Plot Loss\n",
    "plt.subplot(1, 2, 2)\n",
    "plt.plot(range(1, num_epochs + 1), train_losses, label='Training Loss', marker='o')\n",
    "plt.plot(range(1, num_epochs + 1), val_losses, label='Validation Loss', marker='o')\n",
    "plt.xlabel('Epoch')\n",
    "plt.ylabel('Loss')\n",
    "plt.title('Training vs Validation Loss')\n",
    "plt.legend()\n",
    "plt.grid(True)\n",
    "\n",
    "plt.tight_layout()\n",
    "plt.show()"
   ]
  },
  {
   "cell_type": "code",
   "execution_count": 8,
   "metadata": {},
   "outputs": [
    {
     "name": "stdout",
     "output_type": "stream",
     "text": [
      "Training results saved to training_results_ViT.csv\n"
     ]
    }
   ],
   "source": [
    "import pandas as pd\n",
    "\n",
    "# Create a DataFrame with the training and validation results\n",
    "results_df = pd.DataFrame({\n",
    "    'Epoch': list(range(1, num_epochs + 1)),\n",
    "    'Training Accuracy': train_accuracies,\n",
    "    'Validation Accuracy': val_accuracies,\n",
    "    'Training Loss': train_losses,\n",
    "    'Validation Loss': val_losses\n",
    "})\n",
    "\n",
    "# Save the DataFrame to a CSV file\n",
    "results_csv_path = 'training_results_ViT.csv'\n",
    "results_df.to_csv(results_csv_path, index=False)\n",
    "print(f\"Training results saved to {results_csv_path}\")"
   ]
  },
  {
   "cell_type": "code",
   "execution_count": 9,
   "metadata": {},
   "outputs": [
    {
     "name": "stdout",
     "output_type": "stream",
     "text": [
      "Model saved to ./model_ViT.pth\n"
     ]
    }
   ],
   "source": [
    "PATH = './model_ViT.pth'\n",
    "torch.save(v.state_dict(), PATH)\n",
    "print(f\"Model saved to {PATH}\")"
   ]
  },
  {
   "cell_type": "code",
   "execution_count": 12,
   "metadata": {},
   "outputs": [
    {
     "name": "stdout",
     "output_type": "stream",
     "text": [
      "\n",
      "Confusion matrix results saved to conf_matrix_ViT.csv\n",
      "\n",
      "Class-wise Accuracy:\n",
      "Accuracy for class: Alpinia Galanga (Rasna) is 66.7 %\n",
      "Accuracy for class: Amaranthus Viridis (Arive-Dantu) is 79.2 %\n",
      "Accuracy for class: Artocarpus Heterophyllus (Jackfruit) is 100.0 %\n",
      "Accuracy for class: Azadirachta Indica (Neem) is 57.1 %\n",
      "Accuracy for class: Basella Alba (Basale) is 80.0 %\n",
      "Accuracy for class: Brassica Juncea (Indian Mustard) is 100.0 %\n",
      "Accuracy for class: Carissa Carandas (Karanda) is 100.0 %\n",
      "Accuracy for class: Citrus Limon (Lemon) is 100.0 %\n",
      "Accuracy for class: Ficus Auriculata (Roxburgh fig) is 57.1 %\n",
      "Accuracy for class: Ficus Religiosa (Peepal Tree) is 100.0 %\n",
      "Accuracy for class: Hibiscus Rosa-sinensis is 61.5 %\n",
      "Accuracy for class: Jasminum (Jasmine) is 91.7 %\n",
      "Accuracy for class: Mangifera Indica (Mango) is 71.4 %\n",
      "Accuracy for class: Mentha (Mint) is 100.0 %\n",
      "Accuracy for class: Moringa Oleifera (Drumstick) is 100.0 %\n",
      "Accuracy for class: Muntingia Calabura (Jamaica Cherry-Gasagase) is 75.0 %\n",
      "Accuracy for class: Murraya Koenigii (Curry) is 60.0 %\n",
      "Accuracy for class: Nerium Oleander (Oleander) is 81.8 %\n",
      "Accuracy for class: Nyctanthes Arbor-tristis (Parijata) is 100.0 %\n",
      "Accuracy for class: Ocimum Tenuiflorum (Tulsi) is 33.3 %\n",
      "Accuracy for class: Piper Betle (Betel) is 69.2 %\n",
      "Accuracy for class: Plectranthus Amboinicus (Mexican Mint) is 100.0 %\n",
      "Accuracy for class: Pongamia Pinnata (Indian Beech) is 100.0 %\n",
      "Accuracy for class: Psidium Guajava (Guava) is 100.0 %\n",
      "Accuracy for class: Punica Granatum (Pomegranate) is 66.7 %\n",
      "Accuracy for class: Santalum Album (Sandalwood) is 100.0 %\n",
      "Accuracy for class: Syzygium Cumini (Jamun) is 66.7 %\n",
      "Accuracy for class: Syzygium Jambos (Rose Apple) is 100.0 %\n",
      "Accuracy for class: Tabernaemontana Divaricata (Crape Jasmine) is 75.0 %\n",
      "Accuracy for class: Trigonella Foenum-graecum (Fenugreek) is 85.7 %\n"
     ]
    }
   ],
   "source": [
    "import torch\n",
    "import csv\n",
    "from collections import OrderedDict\n",
    "\n",
    "# Prepare to count predictions for each class\n",
    "classes = ['Alpinia Galanga (Rasna)', 'Amaranthus Viridis (Arive-Dantu)', \n",
    "           'Artocarpus Heterophyllus (Jackfruit)', 'Azadirachta Indica (Neem)', \n",
    "           'Basella Alba (Basale)', 'Brassica Juncea (Indian Mustard)', \n",
    "           'Carissa Carandas (Karanda)', 'Citrus Limon (Lemon)', \n",
    "           'Ficus Auriculata (Roxburgh fig)', 'Ficus Religiosa (Peepal Tree)', \n",
    "           'Hibiscus Rosa-sinensis', 'Jasminum (Jasmine)', \n",
    "           'Mangifera Indica (Mango)', 'Mentha (Mint)', \n",
    "           'Moringa Oleifera (Drumstick)', 'Muntingia Calabura (Jamaica Cherry-Gasagase)', \n",
    "           'Murraya Koenigii (Curry)', 'Nerium Oleander (Oleander)', \n",
    "           'Nyctanthes Arbor-tristis (Parijata)', 'Ocimum Tenuiflorum (Tulsi)', \n",
    "           'Piper Betle (Betel)', 'Plectranthus Amboinicus (Mexican Mint)', \n",
    "           'Pongamia Pinnata (Indian Beech)', 'Psidium Guajava (Guava)', \n",
    "           'Punica Granatum (Pomegranate)', 'Santalum Album (Sandalwood)', \n",
    "           'Syzygium Cumini (Jamun)', 'Syzygium Jambos (Rose Apple)', \n",
    "           'Tabernaemontana Divaricata (Crape Jasmine)', 'Trigonella Foenum-graecum (Fenugreek)']\n",
    "\n",
    "correct_pred = {classname: 0 for classname in classes}\n",
    "total_pred = {classname: 0 for classname in classes}\n",
    "\n",
    "# No gradients needed\n",
    "with torch.no_grad():\n",
    "    for data in testloader:\n",
    "        images, labels = data\n",
    "        outputs = v(images.to(device))  # Ganti 'v' dengan 'model' jika perlu\n",
    "        _, predictions = torch.max(outputs, 1)\n",
    "        \n",
    "        # Collect the correct predictions for each class\n",
    "        for label, prediction in zip(labels, predictions):\n",
    "            class_name = classes[label]\n",
    "            total_pred[class_name] += 1\n",
    "            if label == prediction:\n",
    "                correct_pred[class_name] += 1\n",
    "\n",
    "# Calculate accuracy and prepare data for CSV\n",
    "results = []\n",
    "for classname in classes:\n",
    "    accuracy = 100 * float(correct_pred[classname]) / total_pred[classname] if total_pred[classname] != 0 else 0\n",
    "    results.append({\n",
    "        'Class': classname,\n",
    "        'Correct_Predictions': correct_pred[classname],\n",
    "        'Total_Predictions': total_pred[classname],\n",
    "        'Accuracy (%)': round(accuracy, 2)\n",
    "    })\n",
    "\n",
    "# Save to CSV\n",
    "csv_filename = 'conf_matrix_ViT.csv'\n",
    "with open(csv_filename, mode='w', newline='', encoding='utf-8') as csvfile:\n",
    "    fieldnames = ['Class', 'Correct_Predictions', 'Total_Predictions', 'Accuracy (%)']\n",
    "    writer = csv.DictWriter(csvfile, fieldnames=fieldnames)\n",
    "    \n",
    "    writer.writeheader()\n",
    "    for row in results:\n",
    "        writer.writerow(row)\n",
    "\n",
    "print(f\"\\nConfusion matrix results saved to {csv_filename}\")\n",
    "\n",
    "# Print accuracy for each class\n",
    "print(\"\\nClass-wise Accuracy:\")\n",
    "for classname, correct_count in correct_pred.items():\n",
    "    accuracy = 100 * float(correct_count) / total_pred[classname] if total_pred[classname] != 0 else 0\n",
    "    print(f'Accuracy for class: {classname:5s} is {accuracy:.1f} %')"
   ]
  },
  {
   "cell_type": "code",
   "execution_count": 13,
   "metadata": {},
   "outputs": [
    {
     "data": {
      "image/png": "[encoded data removed]",
      "text/plain": [
       "<Figure size 1000x800 with 2 Axes>"
      ]
     },
     "metadata": {},
     "output_type": "display_data"
    }
   ],
   "source": [
    "from sklearn.metrics import confusion_matrix\n",
    "import seaborn as sns\n",
    "\n",
    "# Mengumpulkan semua label sebenarnya dan prediksi\n",
    "all_labels = []\n",
    "all_predictions = []\n",
    "\n",
    "with torch.no_grad():\n",
    "    for data in testloader:\n",
    "        images, labels = data\n",
    "        outputs = v(images.to(device))\n",
    "        _, predictions = torch.max(outputs, 1)\n",
    "        all_labels.extend(labels.cpu().numpy())\n",
    "        all_predictions.extend(predictions.cpu().numpy())\n",
    "\n",
    "# Membuat confusion matrix\n",
    "cm = confusion_matrix(all_labels, all_predictions)\n",
    "\n",
    "# Menampilkan confusion matrix\n",
    "plt.figure(figsize=(10, 8))\n",
    "sns.heatmap(cm, annot=True, fmt='d', cmap='Blues', xticklabels=classes, yticklabels=classes)\n",
    "plt.xlabel('Predicted')\n",
    "plt.ylabel('True')\n",
    "plt.title('Confusion Matrix')\n",
    "plt.xticks(rotation=90)\n",
    "plt.yticks(rotation=0)\n",
    "plt.show()"
   ]
  },
  {
   "cell_type": "code",
   "execution_count": null,
   "metadata": {},
   "outputs": [],
   "source": []
  }
 ],
 "metadata": {
  "kernelspec": {
   "display_name": "Python 3",
   "language": "python",
   "name": "python3"
  },
  "language_info": {
   "codemirror_mode": {
    "name": "ipython",
    "version": 3
   },
   "file_extension": ".py",
   "mimetype": "text/x-python",
   "name": "python",
   "nbconvert_exporter": "python",
   "pygments_lexer": "ipython3",
   "version": "3.11.11"
  }
 },
 "nbformat": 4,
 "nbformat_minor": 2
}
